{
 "cells": [
  {
   "cell_type": "code",
   "execution_count": 1,
   "id": "30ea2016",
   "metadata": {},
   "outputs": [
    {
     "ename": "AttributeError",
     "evalue": "BarGraphItem",
     "output_type": "error",
     "traceback": [
      "\u001b[0;31m---------------------------------------------------------------------------\u001b[0m",
      "\u001b[0;31mAttributeError\u001b[0m                            Traceback (most recent call last)",
      "Cell \u001b[0;32mIn[1], line 21\u001b[0m\n\u001b[1;32m     17\u001b[0m         \u001b[38;5;28mself\u001b[39m\u001b[38;5;241m.\u001b[39mplot_graph\u001b[38;5;241m.\u001b[39mBarGraphItem(x\u001b[38;5;241m=\u001b[39mtime, height\u001b[38;5;241m=\u001b[39m\u001b[38;5;28mself\u001b[39m\u001b[38;5;241m.\u001b[39mtemperature)\n\u001b[1;32m     20\u001b[0m app \u001b[38;5;241m=\u001b[39m QtWidgets\u001b[38;5;241m.\u001b[39mQApplication([])\n\u001b[0;32m---> 21\u001b[0m main \u001b[38;5;241m=\u001b[39m \u001b[43mMainWindow\u001b[49m\u001b[43m(\u001b[49m\u001b[43m)\u001b[49m\n\u001b[1;32m     22\u001b[0m main\u001b[38;5;241m.\u001b[39mshow()\n\u001b[1;32m     23\u001b[0m app\u001b[38;5;241m.\u001b[39mexec()\n",
      "Cell \u001b[0;32mIn[1], line 17\u001b[0m, in \u001b[0;36mMainWindow.__init__\u001b[0;34m(self)\u001b[0m\n\u001b[1;32m     15\u001b[0m \u001b[38;5;28mself\u001b[39m\u001b[38;5;241m.\u001b[39mtemperature \u001b[38;5;241m=\u001b[39m [random\u001b[38;5;241m.\u001b[39mrandint(\u001b[38;5;241m20\u001b[39m,\u001b[38;5;241m40\u001b[39m) \u001b[38;5;28;01mfor\u001b[39;00m _ \u001b[38;5;129;01min\u001b[39;00m \u001b[38;5;28mrange\u001b[39m(\u001b[38;5;241m10\u001b[39m)] \u001b[38;5;66;03m#[30, 32, 34, 32, 33, 31, 29, 32, 35, 30]\u001b[39;00m\n\u001b[1;32m     16\u001b[0m \u001b[38;5;66;03m# help(self.plot_graph)\u001b[39;00m\n\u001b[0;32m---> 17\u001b[0m \u001b[38;5;28;43mself\u001b[39;49m\u001b[38;5;241;43m.\u001b[39;49m\u001b[43mplot_graph\u001b[49m\u001b[38;5;241;43m.\u001b[39;49m\u001b[43mBarGraphItem\u001b[49m(x\u001b[38;5;241m=\u001b[39mtime, height\u001b[38;5;241m=\u001b[39m\u001b[38;5;28mself\u001b[39m\u001b[38;5;241m.\u001b[39mtemperature)\n",
      "File \u001b[0;32m~/Projects/SigProDemos/venv/lib/python3.12/site-packages/pyqtgraph/widgets/PlotWidget.py:85\u001b[0m, in \u001b[0;36mPlotWidget.__getattr__\u001b[0;34m(self, attr)\u001b[0m\n\u001b[1;32m     83\u001b[0m     \u001b[38;5;28;01mif\u001b[39;00m \u001b[38;5;28mhasattr\u001b[39m(m, \u001b[38;5;124m'\u001b[39m\u001b[38;5;124m__call__\u001b[39m\u001b[38;5;124m'\u001b[39m):\n\u001b[1;32m     84\u001b[0m         \u001b[38;5;28;01mreturn\u001b[39;00m m\n\u001b[0;32m---> 85\u001b[0m \u001b[38;5;28;01mraise\u001b[39;00m \u001b[38;5;167;01mAttributeError\u001b[39;00m(attr)\n",
      "\u001b[0;31mAttributeError\u001b[0m: BarGraphItem"
     ]
    }
   ],
   "source": [
    "import pyqtgraph as pg\n",
    "from PyQt6 import QtWidgets\n",
    "import random\n",
    "\n",
    "class MainWindow(QtWidgets.QMainWindow):\n",
    "    def __init__(self):\n",
    "        super().__init__()\n",
    "\n",
    "        self.setWindowTitle(\"Live plot\")\n",
    "\n",
    "        # Temperature verses time plot\n",
    "        self.plot_graph = pg.PlotWidget()\n",
    "        self.setCentralWidget(self.plot_graph)\n",
    "        time = list(range(10)) # [1,2,3,4,5,6,7,8,9,10]\n",
    "        self.temperature = [random.randint(20,40) for _ in range(10)] #[30, 32, 34, 32, 33, 31, 29, 32, 35, 30]\n",
    "        # help(self.plot_graph)\n",
    "        self.plot_graph.BarGraphItem(x=time, height=self.temperature)\n",
    "\n",
    "\n",
    "app = QtWidgets.QApplication([])\n",
    "main = MainWindow()\n",
    "main.show()\n",
    "app.exec()"
   ]
  },
  {
   "cell_type": "code",
   "execution_count": null,
   "id": "e322962b",
   "metadata": {},
   "outputs": [],
   "source": []
  }
 ],
 "metadata": {
  "kernelspec": {
   "display_name": "venv",
   "language": "python",
   "name": "venv"
  },
  "language_info": {
   "codemirror_mode": {
    "name": "ipython",
    "version": 3
   },
   "file_extension": ".py",
   "mimetype": "text/x-python",
   "name": "python",
   "nbconvert_exporter": "python",
   "pygments_lexer": "ipython3",
   "version": "3.12.3"
  }
 },
 "nbformat": 4,
 "nbformat_minor": 5
}
